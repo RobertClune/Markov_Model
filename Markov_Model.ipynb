{
  "cells": [
    {
      "cell_type": "markdown",
      "metadata": {
        "id": "rqeW-cjII-6R"
      },
      "source": [
        "# Simulation of Nitflex Business Model\n",
        "\n",
        "Nitflex is a streaming company providing paid content on a subscription-based plan.\n",
        "The company model generates revenues exclusively through user’s subscription which comprises the following plans:\n",
        "•\tFree Trial (14 days): users subscribe to try the Nitflex services free of charge for a week. The user must provide a credit card during the sign-up process. The user can cancel the free trial at any time during the 14 days; after that, the user is automatically moved to the Basic plan and charged for the first month.\n",
        "•\tBasic Plan: users in the Basic Plan have access to the entire media collection; however, they have a limit of 40 movies a month.\n",
        "•\tUnlimited Plan: users in the Unlimited Plan have access to the entire media collection with no limit.\n"
      ]
    },
    {
      "cell_type": "markdown",
      "metadata": {
        "id": "VnXC58DpI-6T"
      },
      "source": [
        "## Define the MM with the transition probabilities (20 Points)\n",
        "For this, you will need to define: (1) the States and (2) the Transition Probability Matrix"
      ]
    },
    {
      "cell_type": "code",
      "execution_count": 1,
      "metadata": {
        "id": "F0Tu-WapI-6U"
      },
      "outputs": [],
      "source": [
        "import numpy as np\n",
        "import random as rm\n",
        "\n",
        "# Defining the States\n",
        "states = [\"T\", \"B\", \"U\", \"Dropped\", \"Lost\"]\n",
        "\n",
        "# Defining the transitions\n",
        "transitionName = [['T11', 'T12', 'T13', 'T1D', 'T1L'],\n",
        "                  ['T21', 'T22', 'T23', 'T2D', 'T2L'],\n",
        "                  ['T31', 'T32', 'T33', 'T3D', 'T3L'],\n",
        "                  ['TD1', 'TD2', 'TD3', 'TDD', 'TDL'],\n",
        "                  ['TL1', 'TL2', 'TL3', 'TLD', 'TLL']]\n",
        "\n",
        "tMatrix =([\n",
        "\n",
        "    [0.25, 0.3, 0.15, 0.20, 0.1],\n",
        "    [0.25, 0.65, 0.10, 0, 0],\n",
        "    [0, 0.10, 0.90, 0, 0],\n",
        "    [0.25, 0.3, 0.35, 0, 0.10],\n",
        "    [0, 0, 0, 0, 1.0]\n",
        "\n",
        "])\n"
      ]
    },
    {
      "cell_type": "markdown",
      "metadata": {
        "id": "vR54qSJNI-6V"
      },
      "source": [
        "## Is this an Ergodic system? (10 Points)\n",
        "Write your answer in the next cell."
      ]
    },
    {
      "cell_type": "markdown",
      "metadata": {
        "id": "Bhy2btKuI-6V"
      },
      "source": [
        "The system is not ergodic becasue of the lost state. The lost state has no transition to any other states which makes it an absorbing state. An ergodic system is when it is possible to reach any state from any other state. Once it goes into the lost state it can never leave and would be stuck there."
      ]
    },
    {
      "cell_type": "markdown",
      "metadata": {
        "id": "_b6NVAeGI-6V"
      },
      "source": [
        "## Is there any Absorbing state in this system? (10 Points)\n",
        "Write your answer in the next cell below. Write the name of the Absorbing state (if any) or simply \"No absorbing state\" if none of the state is an Absorbing State."
      ]
    },
    {
      "cell_type": "markdown",
      "metadata": {
        "id": "_3poR2ryI-6V"
      },
      "source": [
        "Yes there is an absorbing state. The lost state is an absorbing state. The lost state would be the people that never recieved the trial."
      ]
    },
    {
      "cell_type": "markdown",
      "metadata": {
        "id": "uC2gycPMI-6V"
      },
      "source": [
        "The following functions will check the matrix: make sure your transition Matrix passes the test; otherwise, there is something wrong with you probabilities."
      ]
    },
    {
      "cell_type": "code",
      "execution_count": 2,
      "metadata": {
        "id": "XiX8SlecI-6V"
      },
      "outputs": [],
      "source": [
        "def mult_matrices(m1, m2):\n",
        "    res = [[0 for x in range(len(m1))] for y in range(len(m2))]\n",
        "    for i in range(len(m1)):\n",
        "        for j in range(len(m2[0])):\n",
        "            for k in range(len(m2)):\n",
        "                res[i][j] = round(res[i][j] + m1[i][k] * m2[k][j], 3)\n",
        "    return res\n",
        "\n",
        "def checkMatrix(M):\n",
        "    # The raw probabilities should sum to 1\n",
        "    n = len(M)\n",
        "    psum = 0\n",
        "    result = False\n",
        "\n",
        "    for i in range(0,n):\n",
        "        psum += sum(M[i])\n",
        "\n",
        "    if psum == n:\n",
        "        result = True\n",
        "    return result"
      ]
    },
    {
      "cell_type": "code",
      "execution_count": 3,
      "metadata": {
        "colab": {
          "base_uri": "https://localhost:8080/"
        },
        "id": "HV_egr0wI-6W",
        "outputId": "9be3829e-ead7-4f8b-8cc9-99fd700fc39c"
      },
      "outputs": [
        {
          "output_type": "stream",
          "name": "stdout",
          "text": [
            "Probability Test ... passed.\n"
          ]
        }
      ],
      "source": [
        "# Checking the probabilities look ok: out probabilities should be equal to 1\n",
        "if checkMatrix(tMatrix):\n",
        "    print(\"Probability Test ... passed.\")\n",
        "else:\n",
        "    print(\"The transition matrix has some problem\")"
      ]
    },
    {
      "cell_type": "markdown",
      "metadata": {
        "id": "_S0Z-ljYI-6W"
      },
      "source": [
        "**IF THE TEST FAIL, FIX YOUR TRANSITION MATRIX**"
      ]
    },
    {
      "cell_type": "code",
      "execution_count": 4,
      "metadata": {
        "id": "N7MmATHLI-6W"
      },
      "outputs": [],
      "source": [
        "def simulate(periods, starting_state, states, transitionName, tMatrix):\n",
        "    current_state = starting_state\n",
        "    transition_index = 0\n",
        "    projectedMatrix = tMatrix\n",
        "\n",
        "    transitionList = [states[current_state]]\n",
        "    period_counter = 1\n",
        "    # Probability of transitionList\n",
        "    prob = 1\n",
        "\n",
        "    while period_counter != periods:\n",
        "\n",
        "        next_transition = np.random.choice(transitionName[transition_index],replace=True,p=tMatrix[transition_index])\n",
        "        next_state_index = transitionName[transition_index].index(next_transition)\n",
        "\n",
        "        if tMatrix[transition_index][next_state_index]>0.0:\n",
        "            prob = prob * tMatrix[transition_index][next_state_index]\n",
        "\n",
        "        transition_index = next_state_index\n",
        "        transitionList.append(states[transition_index])\n",
        "\n",
        "        projectedMatrix = mult_matrices(projectedMatrix,projectedMatrix)\n",
        "\n",
        "        period_counter += 1\n",
        "    return transitionList, states[transition_index], prob, projectedMatrix"
      ]
    },
    {
      "cell_type": "markdown",
      "metadata": {
        "id": "5KZk6m5eI-6W"
      },
      "source": [
        "## What would be the distribution of probabilities for each Subscription level 10 years from now? (30 Points)\n",
        "Simulate the business for 10 periods (each period is 1 year) and look at the simulated transition matrix after 10 years.  \n",
        "  Comment on that."
      ]
    },
    {
      "cell_type": "code",
      "execution_count": 5,
      "metadata": {
        "id": "ULMGi0n2I-6X",
        "colab": {
          "base_uri": "https://localhost:8080/"
        },
        "outputId": "c72f3f56-338e-44e8-a6aa-bdb7e85d4f0b"
      },
      "outputs": [
        {
          "output_type": "stream",
          "name": "stdout",
          "text": [
            "Possible states: ['T', 'T', 'T', 'Lost', 'Lost', 'Lost', 'Lost', 'Lost', 'Lost', 'Lost']\n",
            "End state after 10 periods: Lost\n",
            "Probability of the possible sequence of states: 0.00625\n",
            "\n",
            "[0.0, 0.0, 0.0, 0.0, 0.998]\n",
            "[0.0, 0.0, 0.001, 0.0, 0.995]\n",
            "[0.0, 0.0, 0.001, 0.0, 0.996]\n",
            "[0.0, 0.0, 0.0, 0.0, 0.998]\n",
            "[0.0, 0.0, 0.0, 0.0, 1.0]\n"
          ]
        }
      ],
      "source": [
        "periods = 10\n",
        "starting_state = 0\n",
        "transition_list, final_state, probability, projected_matrix = simulate(periods, starting_state, states, transitionName, tMatrix)\n",
        "\n",
        "print(\"Possible states: \" + str(transition_list))\n",
        "print(\"End state after \"+ str(periods) + \" periods: \" + final_state)\n",
        "print(\"Probability of the possible sequence of states: \" + str(probability))\n",
        "print()\n",
        "#Printing projected matrix\n",
        "for i in range(len(projected_matrix)):\n",
        "    print(projected_matrix[i])"
      ]
    },
    {
      "cell_type": "markdown",
      "metadata": {
        "id": "BLyk0DeoI-6X"
      },
      "source": [
        "Write your comments in the next cell."
      ]
    },
    {
      "cell_type": "markdown",
      "metadata": {
        "id": "kSqRt-AhI-6X"
      },
      "source": [
        "Here you can see that people will be in and out of the trial state and basic state for 2 periods before going to the basic.  They wil then eventually go to unlimited after they had the basic plan."
      ]
    },
    {
      "cell_type": "markdown",
      "metadata": {
        "id": "3UOHY-eLI-6X"
      },
      "source": [
        "## What Modification would you introduce for Nitflex to be more Successful? (30 Points)\n",
        "Based on your observations, introduce a change in the business model that would improve the outcome described in the previous point. If you feel there is no need of improvements, simply state: \"No improvement necessary.\"  \n",
        "  Please, specify your improvements in the form of a new transition matrix.  \n",
        "  \n",
        "  Specify your new transition matrix in the next cell."
      ]
    },
    {
      "cell_type": "code",
      "execution_count": 6,
      "metadata": {
        "id": "BC_Xv0DII-6X"
      },
      "outputs": [],
      "source": [
        "\n",
        "tMatrix =([\n",
        "\n",
        "    [0.25, 0.3, 0.15, 0.20, 0.1],\n",
        "    [0.25, 0.65, 0.10, 0, 0],\n",
        "    [0, 0.10, 0.90, 0, 0],\n",
        "    [0.25, 0.3, 0.35, 0, 0.10],\n",
        "    [1, 0, 0, 0.0, 0]\n",
        "\n",
        "])\n",
        "\n"
      ]
    },
    {
      "cell_type": "markdown",
      "metadata": {
        "id": "p4knb7onI-6X"
      },
      "source": [
        "Run the simulation again (on the same 10 periods) and generate the new simulated transition probabilities.  \n",
        "  Execute the simulation in the next cell and print the results."
      ]
    },
    {
      "cell_type": "code",
      "execution_count": 7,
      "metadata": {
        "id": "d0KZy27wI-6X",
        "colab": {
          "base_uri": "https://localhost:8080/"
        },
        "outputId": "28f8c5f1-46b6-4600-d172-aee02e7328c7"
      },
      "outputs": [
        {
          "output_type": "stream",
          "name": "stdout",
          "text": [
            "Possible states: ['T', 'Dropped', 'U', 'U', 'U', 'U', 'U', 'U', 'U', 'U']\n",
            "End state after 10 periods: U\n",
            "Probability of the possible sequence of states: 0.03348078300000001\n",
            "\n",
            "[0.122, 0.283, 0.55, 0.024, 0.014]\n",
            "[0.122, 0.283, 0.55, 0.024, 0.014]\n",
            "[0.122, 0.283, 0.547, 0.024, 0.014]\n",
            "[0.122, 0.283, 0.548, 0.024, 0.014]\n",
            "[0.122, 0.283, 0.549, 0.024, 0.014]\n"
          ]
        }
      ],
      "source": [
        "periods = 10\n",
        "starting_state = 0\n",
        "transition_list, final_state, probability, projected_matrix = simulate(periods, starting_state, states, transitionName, tMatrix)\n",
        "\n",
        "print(\"Possible states: \" + str(transition_list))\n",
        "print(\"End state after \"+ str(periods) + \" periods: \" + final_state)\n",
        "print(\"Probability of the possible sequence of states: \" + str(probability))\n",
        "print()\n",
        "#Printing projected matrix\n",
        "for i in range(len(projected_matrix)):\n",
        "    print(projected_matrix[i])"
      ]
    },
    {
      "cell_type": "markdown",
      "metadata": {
        "id": "lJ0v7b-5I-6X"
      },
      "source": [
        "Comment your results"
      ]
    },
    {
      "cell_type": "markdown",
      "metadata": {
        "id": "yKUnJ73OI-6Y"
      },
      "source": [
        "I decided to take the lost state and send it back to the trial state because the ones in the lost state never recieved the trial in the first place.  It can be the people that never made an account or never got the trial.\n",
        "You can also see that it would end at the unlimited plan after ten states."
      ]
    }
  ],
  "metadata": {
    "kernelspec": {
      "display_name": "Python 3",
      "language": "python",
      "name": "python3"
    },
    "language_info": {
      "codemirror_mode": {
        "name": "ipython",
        "version": 3
      },
      "file_extension": ".py",
      "mimetype": "text/x-python",
      "name": "python",
      "nbconvert_exporter": "python",
      "pygments_lexer": "ipython3",
      "version": "3.7.6"
    },
    "colab": {
      "provenance": []
    }
  },
  "nbformat": 4,
  "nbformat_minor": 0
}